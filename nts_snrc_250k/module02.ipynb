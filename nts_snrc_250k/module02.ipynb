{
 "cells": [
  {
   "cell_type": "code",
   "execution_count": 1,
   "id": "sophisticated-kansas",
   "metadata": {},
   "outputs": [],
   "source": [
    "import matplotlib.pyplot as plt\n",
    "import json\n",
    "from shapely.geometry import Polygon, shape, box, mapping\n",
    "import geopandas as gpd\n",
    "from shapely import wkt\n",
    "from shapely.geometry import box"
   ]
  },
  {
   "cell_type": "code",
   "execution_count": 2,
   "id": "unable-christmas",
   "metadata": {},
   "outputs": [],
   "source": [
    "url = \"https://datacube.services.geo.ca/api/search?collections=salish\"\n",
    "gdf = gpd.read_file(url)\n",
    "geom = gdf.geometry"
   ]
  },
  {
   "cell_type": "code",
   "execution_count": 3,
   "id": "burning-tuner",
   "metadata": {},
   "outputs": [
    {
     "name": "stdout",
     "output_type": "stream",
     "text": [
      "[            id                                           geometry\n",
      "0  salish-1950  POLYGON ((-123.29531 49.14178, -122.78618 49.1...,             id                                           geometry\n",
      "0  salish-1959  POLYGON ((-123.55737 49.09842, -122.38712 49.0...,             id                                           geometry\n",
      "0  salish-1967  POLYGON ((-123.44615 49.00821, -122.42590 49.0...,             id                                           geometry\n",
      "0  salish-1972  POLYGON ((-123.31921 49.22520, -122.80963 49.2...,             id                                           geometry\n",
      "0  salish-1978  POLYGON ((-123.44380 49.15707, -122.28672 49.1...,             id                                           geometry\n",
      "0  salish-1982  POLYGON ((-123.31661 49.02470, -122.39550 49.0...]\n"
     ]
    }
   ],
   "source": [
    "matrix = []\n",
    "for i in range(len(gdf)):\n",
    "    cur_geom = {'id':[gdf.id[i]], 'geometry':shape(geom[i])}\n",
    "    cur_gdf = gpd.GeoDataFrame(cur_geom, crs = \"EPSG:4326\")\n",
    "    matrix.append(cur_gdf)\n",
    "print(matrix)"
   ]
  },
  {
   "cell_type": "code",
   "execution_count": 4,
   "id": "musical-handbook",
   "metadata": {},
   "outputs": [
    {
     "data": {
      "text/plain": [
       "<function matplotlib.pyplot.show(close=None, block=None)>"
      ]
     },
     "execution_count": 4,
     "metadata": {},
     "output_type": "execute_result"
    },
    {
     "data": {
      "image/png": "[encoded data removed]",
      "text/plain": [
       "<Figure size 432x288 with 1 Axes>"
      ]
     },
     "metadata": {
      "needs_background": "light"
     },
     "output_type": "display_data"
    }
   ],
   "source": [
    "result=[]\n",
    "result.append(gpd.overlay(matrix[0],matrix[1],how='intersection'))\n",
    "for i in range (0,len(matrix)-2,1):\n",
    "    cur = gpd.overlay(result[i],matrix[i+2], how='intersection')\n",
    "    result.append(cur)\n",
    "#take the last result\n",
    "final = result[-1]\n",
    "#print(x)\n",
    "\n",
    "ax = final.plot(color='yellow')\n",
    "for i in range(0,len(matrix),1):\n",
    "    matrix[i].plot(ax=ax, facecolor='None', edgecolor='k');\n",
    "plt.show"
   ]
  },
  {
   "cell_type": "code",
   "execution_count": 5,
   "id": "cordless-spray",
   "metadata": {},
   "outputs": [],
   "source": [
    "# parameters\n",
    "para = 'datacube'\n",
    "bound_box = box(*final.total_bounds)\n",
    "start = gdf.datetime[0]\n",
    "end = gdf.datetime[len(gdf)-1]\n",
    "crs = gdf.crs"
   ]
  },
  {
   "cell_type": "code",
   "execution_count": 6,
   "id": "sharp-swift",
   "metadata": {},
   "outputs": [],
   "source": [
    "final.total_bounds\n",
    "minx = final.total_bounds[0]\n",
    "miny = final.total_bounds[1]\n",
    "maxx = final.total_bounds[2]\n",
    "maxy = final.total_bounds[3]\n",
    "new_bbox = [miny,minx,maxy,maxx]"
   ]
  },
  {
   "cell_type": "code",
   "execution_count": 7,
   "id": "beautiful-millennium",
   "metadata": {
    "scrolled": true
   },
   "outputs": [
    {
     "name": "stdout",
     "output_type": "stream",
     "text": [
      "https://datacube.services.geo.ca/ows/aerial?service=wms&request=GetMap&styles=&format=image/png&LAYERS=salish&WIDTH=732&HEIGHT=982&CRS=EPSG:4326&BBOX=49.225195681615254,-123.29530682511599,49.29047868957142,-122.8096294492051&TIME=1950-01-01T00:00:00+00:00T12:00:00Z/1982-01-01T00:00:00+00:00T12:00:00Z&datacube=notset\n"
     ]
    }
   ],
   "source": [
    "def getUrl(collection='salish',parameter='datacube',value='notset',start_date=start,end_date=end,width='732',height='982'):\n",
    "    layers='salish'\n",
    "    crs=\"EPSG:4326\"\n",
    "    x = \"\"+ str(miny) + ',' + str(minx) + ',' + str(maxy) + ',' + str(maxx) \n",
    "    url = \"https://datacube.services.geo.ca/ows/aerial?service=wms&request=GetMap&styles=&format=image/png\"\n",
    "    url+=\"&LAYERS=%s&WIDTH=%s&HEIGHT=%s&CRS=%s&\"%(layers,width,height,crs)\n",
    "    \n",
    "    url+=\"BBOX=%s\"%(x)\n",
    "    url+=\"&TIME=%sT12:00:00Z/%sT12:00:00Z\"%(start_date,end_date)\n",
    "    url+=\"&%s=%s\"%(parameter,value)\n",
    "    return url\n",
    "url=getUrl(collection='salish',parameter='datacube',\n",
    "                       value='notset',start_date=start,\n",
    "                       end_date=end,width='732',height='982')\n",
    "print(url)"
   ]
  },
  {
   "cell_type": "code",
   "execution_count": 8,
   "id": "patient-cooking",
   "metadata": {},
   "outputs": [],
   "source": [
    "#https://datacube.services.geo.ca/ows/aerial?service=wms&request=GetMap&styles=&format=image/png&LAYERS=salish&WIDTH=732&HEIGHT=982&CRS=EPSG:4326&BBOX=49.225195681615254,-123.29530682511599,49.29047868957142,-122.8096294492051&TIME=1950-01-01T00:00:00+00:00T12:00:00Z/1982-01-01T00:00:00+00:00T12:00:00Z&datacube=notset"
   ]
  },
  {
   "cell_type": "code",
   "execution_count": null,
   "id": "honey-korea",
   "metadata": {},
   "outputs": [],
   "source": []
  },
  {
   "cell_type": "code",
   "execution_count": null,
   "id": "pregnant-tuesday",
   "metadata": {},
   "outputs": [],
   "source": []
  },
  {
   "cell_type": "code",
   "execution_count": null,
   "id": "reduced-evolution",
   "metadata": {},
   "outputs": [],
   "source": []
  },
  {
   "cell_type": "code",
   "execution_count": null,
   "id": "current-float",
   "metadata": {},
   "outputs": [],
   "source": []
  },
  {
   "cell_type": "code",
   "execution_count": null,
   "id": "bibliographic-alexandria",
   "metadata": {},
   "outputs": [],
   "source": []
  },
  {
   "cell_type": "code",
   "execution_count": null,
   "id": "divided-deputy",
   "metadata": {},
   "outputs": [],
   "source": []
  }
 ],
 "metadata": {
  "kernelspec": {
   "display_name": "Python 3",
   "language": "python",
   "name": "python3"
  },
  "language_info": {
   "codemirror_mode": {
    "name": "ipython",
    "version": 3
   },
   "file_extension": ".py",
   "mimetype": "text/x-python",
   "name": "python",
   "nbconvert_exporter": "python",
   "pygments_lexer": "ipython3",
   "version": "3.9.1"
  }
 },
 "nbformat": 4,
 "nbformat_minor": 5
}
