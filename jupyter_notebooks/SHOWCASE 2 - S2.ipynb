{
 "cells": [
  {
   "cell_type": "markdown",
   "id": "dirty-script",
   "metadata": {},
   "source": [
    "# Showcase II: Overview creation method comparison"
   ]
  },
  {
   "cell_type": "markdown",
   "id": "greater-sleeping",
   "metadata": {},
   "source": [
    "<div class=\"alert alert-block alert-info\">  \n",
    "<font size=3.5><strong>Section 2: </strong><br>\n",
    "There are 2 ways to create individual overview creation:\n",
    "    <li>Create the overview x <strong>based on the source image</strong>. For example, source image -> overview 64</li>\n",
    "    <li>Create the overview x <strong>from the previous overview</strong>. For example, source image -> overview 2 -> overview 4 -> overview 8 -> overview 16 -> overview 32 -> overview 64 </li>\n",
    "In this section, which individual overview creation method based on the use and interpretation of image statistics will be determined.</font> \n",
    "</div>"
   ]
  },
  {
   "cell_type": "markdown",
   "id": "static-comfort",
   "metadata": {},
   "source": [
    "## Result & Analysis:\n",
    "\n",
    "<div class=\"alert alert-block alert-warning\">\n",
    "To compare the histograms of the resampled images which are based on the source image / previous overview:\n",
    "<br> \n",
    "<img src=\"hist1.png\">\n",
    "<img src=\"hist-m1m2.png\">\n",
    "<img src=\"hist-near-m1m2.png\">\n",
    "<img src=\"hist-bili-m1m2.png\">\n",
    "</div>"
   ]
  },
  {
   "cell_type": "markdown",
   "id": "obvious-papua",
   "metadata": {},
   "source": [
    "<strong>Conclusion: </strong>\n",
    "Gaussian - created from the original image is closest to the original source image."
   ]
  },
  {
   "cell_type": "markdown",
   "id": "least-rendering",
   "metadata": {},
   "source": [
    "<div class=\"alert alert-block alert-warning\">\n",
    "Some statistics in the csv file are selected are visualized by scatterplots:\n",
    "<br> \n",
    "<img src=\"hist1.png\">\n",
    "<img src=\"hist-m1m2.png\">\n",
    "<img src=\"hist-near-m1m2.png\">\n",
    "<img src=\"hist-bili-m1m2.png\">\n",
    "</div>"
   ]
  },
  {
   "cell_type": "code",
   "execution_count": 18,
   "id": "solid-appliance",
   "metadata": {},
   "outputs": [],
   "source": [
    "df = pd.read_csv(\"C:/Users/Owner/COOP4/PortableGit/nrcan-datacube/predata/M1&M2.csv\")\n",
    "#print(df)"
   ]
  },
  {
   "cell_type": "markdown",
   "id": "associate-poker",
   "metadata": {},
   "source": [
    "<div class=\"alert alert-block alert-warning\">\n",
    "Some statistics in the csv file are selected are visualized by scatterplots:\n",
    "<br>\n",
    "<img src=\"meanq2.png\">\n",
    "<img src=\"medianq2.png\">\n",
    "<img src=\"minmaxq2.png\">\n",
    "<img src=\"stdq2.png\">\n",
    "<img src=\"pixelq2.png\">\n",
    "</div>"
   ]
  },
  {
   "cell_type": "markdown",
   "id": "stable-functionality",
   "metadata": {},
   "source": [
    "### Conclusion: Gaussian which is created from the source drectly is closest to the original dem source. The overviews created directly based on the source image will better than the overviews created from the previous overview."
   ]
  },
  {
   "cell_type": "code",
   "execution_count": null,
   "id": "medical-sympathy",
   "metadata": {},
   "outputs": [],
   "source": []
  },
  {
   "cell_type": "code",
   "execution_count": null,
   "id": "alpha-simulation",
   "metadata": {},
   "outputs": [],
   "source": []
  }
 ],
 "metadata": {
  "kernelspec": {
   "display_name": "Python 3",
   "language": "python",
   "name": "python3"
  },
  "language_info": {
   "codemirror_mode": {
    "name": "ipython",
    "version": 3
   },
   "file_extension": ".py",
   "mimetype": "text/x-python",
   "name": "python",
   "nbconvert_exporter": "python",
   "pygments_lexer": "ipython3",
   "version": "3.9.1"
  }
 },
 "nbformat": 4,
 "nbformat_minor": 5
}
