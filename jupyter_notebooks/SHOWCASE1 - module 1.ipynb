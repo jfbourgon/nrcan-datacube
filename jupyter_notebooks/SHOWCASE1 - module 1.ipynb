{
 "cells": [
  {
   "cell_type": "markdown",
   "id": "dramatic-effect",
   "metadata": {},
   "source": [
    "# Showcase I: Creating coverage tiler + Output Visualization in an interactive map"
   ]
  },
  {
   "cell_type": "markdown",
   "id": "married-stake",
   "metadata": {},
   "source": [
    "<div class=\"alert alert-block alert-info\">  \n",
    "<font size=3.5><strong>Section 1: </strong><br>Create a new python module that will allow creating vector tiles based on a specific tile size (e.g 800000x800000).</font> \n",
    "<img src=\"https://github.com/jfbourgon/nrcan-datacube/raw/master/work-modules/images/coverage_tile_example.png\">\n",
    "</div>"
   ]
  },
  {
   "cell_type": "markdown",
   "id": "published-racing",
   "metadata": {},
   "source": [
    "## Step 1:\n",
    "\n",
    "<div class=\"alert alert-block alert-success\">\n",
    "Import Modules:\n",
    "<li>fiona: read and write reads and writes spatial data files</li>\n",
    "<li>shapely: manipulation and analysis of planar geometric objects</li>\n",
    "<li>geopandas: spatial operations on geometric types</li>\n",
    "<li>pyproj: cartographic projections and coordinate transformations</li>\n",
    "<li>ipyleaflet: create interactive maps</li>\n",
    "</div>"
   ]
  },
  {
   "cell_type": "code",
   "execution_count": 1,
   "id": "typical-cartoon",
   "metadata": {},
   "outputs": [],
   "source": [
    "import fiona\n",
    "import fiona.crs\n",
    "import shapely\n",
    "from shapely.geometry import Polygon, shape, box, mapping\n",
    "import math\n",
    "import pyproj\n",
    "from shapely.ops import transform\n",
    "import geopandas as gpd\n",
    "import matplotlib.pyplot as plt\n",
    "from ipyleaflet import *"
   ]
  },
  {
   "cell_type": "markdown",
   "id": "enormous-haven",
   "metadata": {},
   "source": [
    "## Step 2:\n",
    "<div class=\"alert alert-block alert-success\">\n",
    "Define the tile size and load canada.geojson file as an existing coverage\n",
    "</div>"
   ]
  },
  {
   "cell_type": "code",
   "execution_count": 9,
   "id": "mathematical-nebraska",
   "metadata": {},
   "outputs": [],
   "source": [
    "tile_size = 800000\n",
    "\n",
    "# Load canada.geojson file with fiona\n",
    "source = fiona.open('../presentation/canada.geojson')\n",
    "canada = shape(source[0][\"geometry\"])"
   ]
  },
  {
   "cell_type": "markdown",
   "id": "transsexual-skirt",
   "metadata": {},
   "source": [
    "## Step 3\n",
    "<div class=\"alert alert-block alert-success\">\n",
    "Create a custom index based on a specific tile size over the existing coverage (canada.geojson)\n",
    "</div>"
   ]
  },
  {
   "cell_type": "code",
   "execution_count": 3,
   "id": "special-botswana",
   "metadata": {},
   "outputs": [
    {
     "name": "stdout",
     "output_type": "stream",
     "text": [
      "[<shapely.geometry.polygon.Polygon object at 0x000001BBE959E1F0>, <shapely.geometry.polygon.Polygon object at 0x000001BBE959E220>, <shapely.geometry.polygon.Polygon object at 0x000001BBE9597FA0>, <shapely.geometry.polygon.Polygon object at 0x000001BBED0542B0>, <shapely.geometry.polygon.Polygon object at 0x000001BBED054250>, <shapely.geometry.polygon.Polygon object at 0x000001BBED054280>, <shapely.geometry.polygon.Polygon object at 0x000001BBED054340>, <shapely.geometry.polygon.Polygon object at 0x000001BBED0543A0>, <shapely.geometry.polygon.Polygon object at 0x000001BBED054490>, <shapely.geometry.polygon.Polygon object at 0x000001BBED054430>, <shapely.geometry.polygon.Polygon object at 0x000001BBED057AF0>, <shapely.geometry.polygon.Polygon object at 0x000001BBED057490>, <shapely.geometry.polygon.Polygon object at 0x000001BBED057430>, <shapely.geometry.polygon.Polygon object at 0x000001BBED0573D0>, <shapely.geometry.polygon.Polygon object at 0x000001BBED0574C0>, <shapely.geometry.polygon.Polygon object at 0x000001BBED057520>, <shapely.geometry.polygon.Polygon object at 0x000001BBED0579D0>, <shapely.geometry.polygon.Polygon object at 0x000001BBED057970>, <shapely.geometry.polygon.Polygon object at 0x000001BBED057910>, <shapely.geometry.polygon.Polygon object at 0x000001BBED0578B0>, <shapely.geometry.polygon.Polygon object at 0x000001BBED057850>, <shapely.geometry.polygon.Polygon object at 0x000001BBED0577F0>, <shapely.geometry.polygon.Polygon object at 0x000001BBED057790>, <shapely.geometry.polygon.Polygon object at 0x000001BBED057730>, <shapely.geometry.polygon.Polygon object at 0x000001BBED0576D0>, <shapely.geometry.polygon.Polygon object at 0x000001BBED057610>, <shapely.geometry.polygon.Polygon object at 0x000001BBED057670>, <shapely.geometry.polygon.Polygon object at 0x000001BBED0575B0>, <shapely.geometry.polygon.Polygon object at 0x000001BBED057B20>, <shapely.geometry.polygon.Polygon object at 0x000001BBED057EE0>, <shapely.geometry.polygon.Polygon object at 0x000001BBED057B80>]\n"
     ]
    }
   ],
   "source": [
    "container = []\n",
    "range_minx = math.floor(source.bounds[0]/tile_size)\n",
    "range_maxx = math.ceil(source.bounds[2]/tile_size)\n",
    "range_miny = math.floor(source.bounds[1]/tile_size)\n",
    "range_maxy = math.ceil(source.bounds[3]/tile_size)\n",
    "for i in range(range_minx,range_maxx):\n",
    "    x = i * tile_size\n",
    "    for j in range(range_miny,range_maxy):\n",
    "        y = j * tile_size\n",
    "        my_tile = box(x,y,x+tile_size,y+tile_size)\n",
    "        if my_tile.intersects(canada):\n",
    "            container.append(my_tile)\n",
    "print(container)"
   ]
  },
  {
   "cell_type": "markdown",
   "id": "beautiful-integrity",
   "metadata": {},
   "source": [
    "## Step 4\n",
    "<div class=\"alert alert-block alert-success\">\n",
    "Write the custom index into a geojson file\n",
    "</div>"
   ]
  },
  {
   "cell_type": "code",
   "execution_count": 4,
   "id": "metropolitan-divorce",
   "metadata": {},
   "outputs": [],
   "source": [
    "# create a schema for the new geojson file\n",
    "schema = {\n",
    "    'geometry': 'Polygon',\n",
    "    'properties': {'id': 'int'},\n",
    "}\n",
    "\n",
    "# use fiona to create an output file \n",
    "with fiona.open ('tiler_{}.geojson'.format(tile_size),\n",
    "                 'w','GeoJSON',schema, \n",
    "                 crs=fiona.crs.from_epsg(3979)) as output:  \n",
    "    index = 0\n",
    "    for i in container:\n",
    "        index += 1\n",
    "        output.write({\n",
    "            'geometry': mapping(i),\n",
    "            'properties': {'id': index}})\n",
    "output.close()"
   ]
  },
  {
   "cell_type": "markdown",
   "id": "strategic-warrant",
   "metadata": {},
   "source": [
    "## Step 5\n",
    "<div class=\"alert alert-block alert-success\">\n",
    "Visualize the output tilings\n",
    "</div>"
   ]
  },
  {
   "cell_type": "code",
   "execution_count": 4,
   "id": "blessed-india",
   "metadata": {},
   "outputs": [
    {
     "data": {
      "image/png": "[encoded data removed]",
      "text/plain": [
       "<Figure size 432x288 with 1 Axes>"
      ]
     },
     "metadata": {
      "needs_background": "light"
     },
     "output_type": "display_data"
    }
   ],
   "source": [
    "tile_geom = [shape(i) for i in container]\n",
    "#print(tile_geom)\n",
    "tile_gdf = gpd.GeoDataFrame({'geometry':tile_geom})\n",
    "#print(tile_gdf)\n",
    "\n",
    "ax = tile_gdf.plot(cmap='Set3')\n",
    "#coverage_gdf.plot(ax=ax, facecolor='none', edgecolor='k');\n",
    "tile_gdf.plot(ax=ax, facecolor='none', edgecolor='k');"
   ]
  },
  {
   "cell_type": "markdown",
   "id": "mounted-biology",
   "metadata": {},
   "source": [
    "## Step 6\n",
    "<div class=\"alert alert-block alert-success\">\n",
    "Reproject the tilings to the same coordinate system of basemap and convert it into a geodataframe\n",
    "</div>"
   ]
  },
  {
   "cell_type": "code",
   "execution_count": 6,
   "id": "cubic-printing",
   "metadata": {},
   "outputs": [],
   "source": [
    "# Read proposed tiling (output of your first script)\n",
    "tiles = fiona.open('../presentation/tiler_{}.geojson'.format(tile_size))\n",
    "\n",
    "# reproject the tiling to adapt the coordinate system of basemap\n",
    "df_tiles = []\n",
    "for i in range(1,len(tiles)+1):\n",
    "    tile = shape(tiles[i]['geometry'])\n",
    "    project = pyproj.Transformer.from_proj(pyproj.Proj(tiles.crs['init']), # source coordinate system\n",
    "                                           pyproj.Proj('epsg:4326'),\n",
    "                                           always_xy=True) # destination coordinate system\n",
    "    proj_tile = transform(project.transform, tile)  # apply projection\n",
    "    df_tiles.append(proj_tile)\n",
    "\n",
    "# Generate GeoData layer from the geodataframe   \n",
    "tiler_geom = [shape(i) for i in df_tiles]\n",
    "tiler_gdf = gpd.GeoDataFrame({'geometry':tiler_geom})\n",
    "data = GeoData(geo_dataframe = tiler_gdf, name = 'Poly')"
   ]
  },
  {
   "cell_type": "markdown",
   "id": "based-hamburg",
   "metadata": {},
   "source": [
    "## Step 7\n",
    "<div class=\"alert alert-block alert-success\">\n",
    "Show the tilings in an interactive map using ipyleaflet\n",
    "</div>"
   ]
  },
  {
   "cell_type": "code",
   "execution_count": 7,
   "id": "gorgeous-tiger",
   "metadata": {},
   "outputs": [
    {
     "data": {
      "application/vnd.jupyter.widget-view+json": {
       "model_id": "323474ef04ca4e94afb91e06564d0d63",
       "version_major": 2,
       "version_minor": 0
      },
      "text/plain": [
       "Map(center=[70.1304, -106.3468], controls=(ZoomControl(options=['position', 'zoom_in_text', 'zoom_in_title', '…"
      ]
     },
     "metadata": {},
     "output_type": "display_data"
    }
   ],
   "source": [
    "# Add layer to map\n",
    "m = Map(center=(70.1304,-106.3468), zoom=2, crs=projections.EPSG3857, basemap=basemaps.Esri.WorldTopoMap)\n",
    "m.add_layer(data)\n",
    "\n",
    "m"
   ]
  },
  {
   "cell_type": "code",
   "execution_count": null,
   "id": "enclosed-depression",
   "metadata": {},
   "outputs": [],
   "source": []
  }
 ],
 "metadata": {
  "kernelspec": {
   "display_name": "Python 3",
   "language": "python",
   "name": "python3"
  },
  "language_info": {
   "codemirror_mode": {
    "name": "ipython",
    "version": 3
   },
   "file_extension": ".py",
   "mimetype": "text/x-python",
   "name": "python",
   "nbconvert_exporter": "python",
   "pygments_lexer": "ipython3",
   "version": "3.9.1"
  }
 },
 "nbformat": 4,
 "nbformat_minor": 5
}
