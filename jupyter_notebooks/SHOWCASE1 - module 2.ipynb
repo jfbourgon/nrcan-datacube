{
 "cells": [
  {
   "cell_type": "markdown",
   "id": "solved-pepper",
   "metadata": {},
   "source": [
    "# Showcase I: Creating coverage tiler + Output Visualization in an interactive map"
   ]
  },
  {
   "cell_type": "markdown",
   "id": "accompanied-moment",
   "metadata": {},
   "source": [
    "<div class=\"alert alert-block alert-info\">  \n",
    "<font size=3.5><strong>Section 2: </strong><br>Explore STAC API + Geopandas inside a Jupyter notebook to compute spatial intersection between STAC collections and use the intersection to make an OGC getmap request.</font> \n",
    "</div>"
   ]
  },
  {
   "cell_type": "markdown",
   "id": "innovative-inclusion",
   "metadata": {},
   "source": [
    "## Step 1:\n",
    "\n",
    "<div class=\"alert alert-block alert-success\">\n",
    "Import Modules:\n",
    "<li>fiona: read and write reads and writes spatial data files</li>\n",
    "<li>shapely: manipulation and analysis of planar geometric objects</li>\n",
    "<li>geopandas: spatial operations on geometric types</li>\n",
    "<li>matplotlib: create static, animated, and interactive visualizations</li>\n",
    "</div>"
   ]
  },
  {
   "cell_type": "code",
   "execution_count": 6,
   "id": "moving-prince",
   "metadata": {},
   "outputs": [],
   "source": [
    "import matplotlib.pyplot as plt\n",
    "import json\n",
    "from shapely.geometry import Polygon, shape, box, mapping\n",
    "import geopandas as gpd\n",
    "from shapely import wkt\n",
    "from shapely.geometry import box\n",
    "from shapely.ops import transform\n",
    "import pyproj"
   ]
  },
  {
   "cell_type": "markdown",
   "id": "earned-administrator",
   "metadata": {},
   "source": [
    "## Step 2:\n",
    "\n",
    "<div class=\"alert alert-block alert-success\">\n",
    "Read the Salish collection from STAC API and create a geoDataFrame based on the geojson\n",
    "</div>"
   ]
  },
  {
   "cell_type": "code",
   "execution_count": 2,
   "id": "signal-disclaimer",
   "metadata": {},
   "outputs": [
    {
     "name": "stdout",
     "output_type": "stream",
     "text": [
      "            id   gsd                   datetime collection  \\\n",
      "0  salish-1950  0.25  1950-01-01T00:00:00+00:00     salish   \n",
      "1  salish-1959   0.5  1959-01-01T00:00:00+00:00     salish   \n",
      "2  salish-1967   0.5  1967-01-01T00:00:00+00:00     salish   \n",
      "3  salish-1972   0.5  1972-01-01T00:00:00+00:00     salish   \n",
      "4  salish-1978   0.5  1978-01-01T00:00:00+00:00     salish   \n",
      "5  salish-1982   0.7  1982-01-01T00:00:00+00:00     salish   \n",
      "\n",
      "                                            geometry  \n",
      "0  POLYGON ((-123.29531 49.14178, -122.78618 49.1...  \n",
      "1  POLYGON ((-123.55737 49.09842, -122.38712 49.0...  \n",
      "2  POLYGON ((-123.44615 49.00821, -122.42590 49.0...  \n",
      "3  POLYGON ((-123.31921 49.22520, -122.80963 49.2...  \n",
      "4  POLYGON ((-123.44380 49.15707, -122.28672 49.1...  \n",
      "5  POLYGON ((-123.31661 49.02470, -122.39550 49.0...  \n"
     ]
    }
   ],
   "source": [
    "# url of the Salish collection\n",
    "url = \"https://datacube.services.geo.ca/api/search?collections=salish\"\n",
    "\n",
    "# create a geodataframe\n",
    "gdf = gpd.read_file(url)\n",
    "print(gdf)"
   ]
  },
  {
   "cell_type": "markdown",
   "id": "confidential-radical",
   "metadata": {},
   "source": [
    "## Step 3:\n",
    "\n",
    "<div class=\"alert alert-block alert-success\">\n",
    "Extract all geometries as well as their ids and form a list of geometry\n",
    "</div>"
   ]
  },
  {
   "cell_type": "code",
   "execution_count": 3,
   "id": "sought-minister",
   "metadata": {},
   "outputs": [
    {
     "name": "stdout",
     "output_type": "stream",
     "text": [
      "[            id                                           geometry\n",
      "0  salish-1950  POLYGON ((-123.29531 49.14178, -122.78618 49.1...,             id                                           geometry\n",
      "0  salish-1959  POLYGON ((-123.55737 49.09842, -122.38712 49.0...,             id                                           geometry\n",
      "0  salish-1967  POLYGON ((-123.44615 49.00821, -122.42590 49.0...,             id                                           geometry\n",
      "0  salish-1972  POLYGON ((-123.31921 49.22520, -122.80963 49.2...,             id                                           geometry\n",
      "0  salish-1978  POLYGON ((-123.44380 49.15707, -122.28672 49.1...,             id                                           geometry\n",
      "0  salish-1982  POLYGON ((-123.31661 49.02470, -122.39550 49.0...]\n"
     ]
    }
   ],
   "source": [
    "geom = gdf.geometry\n",
    "matrix = []\n",
    "# create a list of id and geometry for all the polygons\n",
    "for i in range(len(gdf)):\n",
    "    cur_geom = {'id':[gdf.id[i]], 'geometry':shape(geom[i])}\n",
    "    cur_gdf = gpd.GeoDataFrame(cur_geom, crs = \"EPSG:4326\")\n",
    "    matrix.append(cur_gdf)\n",
    "print(matrix)"
   ]
  },
  {
   "cell_type": "markdown",
   "id": "pursuant-columbia",
   "metadata": {},
   "source": [
    "## Step 4:\n",
    "\n",
    "<div class=\"alert alert-block alert-success\">\n",
    "Find the intersection of all geometries in the Salish collection and visualize it using matplotlib \n",
    "</div>"
   ]
  },
  {
   "cell_type": "code",
   "execution_count": 4,
   "id": "speaking-rehabilitation",
   "metadata": {},
   "outputs": [
    {
     "data": {
      "text/plain": [
       "<function matplotlib.pyplot.show(close=None, block=None)>"
      ]
     },
     "execution_count": 4,
     "metadata": {},
     "output_type": "execute_result"
    },
    {
     "data": {
      "image/png": "[encoded data removed]",
      "text/plain": [
       "<Figure size 432x288 with 1 Axes>"
      ]
     },
     "metadata": {
      "needs_background": "light"
     },
     "output_type": "display_data"
    }
   ],
   "source": [
    "result=[]\n",
    "result.append(gpd.overlay(matrix[0],matrix[1],how='intersection'))\n",
    "for i in range (0,len(matrix)-2,1):\n",
    "    cur = gpd.overlay(result[i],matrix[i+2], how='intersection')\n",
    "    result.append(cur)\n",
    "#take the last result\n",
    "final = result[-1]\n",
    "print(final)\n",
    "\n",
    "ax = final.plot(color='pink')\n",
    "for i in range(0,len(matrix),1):\n",
    "    matrix[i].plot(ax=ax, facecolor='None', edgecolor='k');\n",
    "plt.show"
   ]
  },
  {
   "cell_type": "markdown",
   "id": "neither-latino",
   "metadata": {},
   "source": [
    "## Step 5\n",
    "<div class=\"alert alert-block alert-success\">\n",
    "Reproject the tilings to the same coordinate system of basemap and convert it into a geodataframe\n",
    "</div>"
   ]
  },
  {
   "cell_type": "code",
   "execution_count": 8,
   "id": "fancy-hierarchy",
   "metadata": {},
   "outputs": [
    {
     "name": "stdout",
     "output_type": "stream",
     "text": [
      "(478498.0729313628, 5452507.645790464, 513861.29575948894, 5459789.683238143)\n"
     ]
    }
   ],
   "source": [
    "bound_box = box(*final.total_bounds)\n",
    "project = pyproj.Transformer.from_proj(\n",
    "    pyproj.Proj('epsg:4326'),\n",
    "    pyproj.Proj('epsg:32610'),\n",
    "    always_xy=True) # destination coordinate system\n",
    "\n",
    "proj_test = transform(project.transform, bound_box)  # apply projection\n",
    "print(proj_test.bounds)"
   ]
  },
  {
   "cell_type": "markdown",
   "id": "adolescent-restoration",
   "metadata": {},
   "source": [
    "## Step 6\n",
    "<div class=\"alert alert-block alert-success\">\n",
    "Use this intersection polygon as bbox and time range to pass a getmap request to the OGC WMS server parameters include:\n",
    "<li>bbox: polygon extent</li>\n",
    "<li>time: the datatime range</li>\n",
    "<li>crs: an acceptable coordinage reference system that is listed in the getcapabilities and matches the coordinates of the bbox</li>\n",
    "    <br>\n",
    "    <strong>Example link: </strong><p style='text-decoration:underline;'>https://datacube.services.geo.ca/ows/aerial?service=wms&request=GetMap&styles=&format=image/jpeg&layers=salish&version=1.3&height=732&width=982&bbox=-122.4,49.1,-122.2,49.2&crs=EPSG:4326&TIME=1950-01-01T00:00:00Z/1982-01-01T00:00:00Z&transparent=true</p>\n",
    "</div>"
   ]
  },
  {
   "cell_type": "code",
   "execution_count": 11,
   "id": "guided-stanford",
   "metadata": {},
   "outputs": [
    {
     "name": "stdout",
     "output_type": "stream",
     "text": [
      "https://datacube.services.geo.ca/ows/aerial?service=wms&request=GetMap&styles=&format=image/png&LAYERS=salish&WIDTH=732&HEIGHT=982&CRS=EPSG:4326&BBOX=49.225195681615254,-123.29530682511599,49.29047868957142,-122.8096294492051&TIME=1950-01-01T00:00:00+00:00T12:00:00Z/1982-01-01T00:00:00+00:00T12:00:00Z&datacube=notset\n"
     ]
    }
   ],
   "source": [
    "minx = final.total_bounds[0]\n",
    "miny = final.total_bounds[1]\n",
    "maxx = final.total_bounds[2]\n",
    "maxy = final.total_bounds[3]\n",
    "new_bbox = [miny,minx,maxy,maxx]\n",
    "start = gdf.datetime[0]\n",
    "end = gdf.datetime[len(gdf)-1]\n",
    "crs = gdf.crs\n",
    "def getUrl(collection='salish',parameter='datacube',value='notset',start_date=start,end_date=end,width='732',height='982'):\n",
    "    layers='salish'\n",
    "    crs=\"EPSG:4326\"\n",
    "    x = \"\"+ str(miny) + ',' + str(minx) + ',' + str(maxy) + ',' + str(maxx) \n",
    "    url = \"https://datacube.services.geo.ca/ows/aerial?service=wms&request=GetMap&styles=&format=image/png\"\n",
    "    url+=\"&LAYERS=%s&WIDTH=%s&HEIGHT=%s&CRS=%s&\"%(layers,width,height,crs)\n",
    "    \n",
    "    url+=\"BBOX=%s\"%(x)\n",
    "    url+=\"&TIME=%sT12:00:00Z/%sT12:00:00Z\"%(start_date,end_date)\n",
    "    url+=\"&%s=%s\"%(parameter,value)\n",
    "    return url\n",
    "url=getUrl(collection='salish',parameter='datacube',\n",
    "                       value='notset',start_date=start,\n",
    "                       end_date=end,width='732',height='982')\n",
    "print(url)"
   ]
  },
  {
   "cell_type": "code",
   "execution_count": null,
   "id": "exotic-integral",
   "metadata": {},
   "outputs": [],
   "source": []
  }
 ],
 "metadata": {
  "kernelspec": {
   "display_name": "Python 3",
   "language": "python",
   "name": "python3"
  },
  "language_info": {
   "codemirror_mode": {
    "name": "ipython",
    "version": 3
   },
   "file_extension": ".py",
   "mimetype": "text/x-python",
   "name": "python",
   "nbconvert_exporter": "python",
   "pygments_lexer": "ipython3",
   "version": "3.9.1"
  }
 },
 "nbformat": 4,
 "nbformat_minor": 5
}
