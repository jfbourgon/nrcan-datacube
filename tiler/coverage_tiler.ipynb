{
 "cells": [
  {
   "cell_type": "code",
   "execution_count": 1,
   "id": "controlled-chain",
   "metadata": {},
   "outputs": [],
   "source": [
    "#!/usr/bin/env python\n",
    "import fiona\n",
    "import fiona.crs\n",
    "import shapely\n",
    "from shapely.geometry import Polygon, shape, box, mapping\n",
    "import math\n",
    "\n",
    "import geopandas as gpd\n",
    "import matplotlib.pyplot as plt\n",
    "\n",
    "#def main():\n",
    "tile_size = 800000\n",
    "\n",
    "# Load canada.geojson file with fiona\n",
    "source = fiona.open('../tiler/canada2.geojson')\n",
    "canada = shape(source[0][\"geometry\"])\n",
    "#print(canada)"
   ]
  },
  {
   "cell_type": "code",
   "execution_count": 2,
   "id": "specific-beverage",
   "metadata": {},
   "outputs": [
    {
     "name": "stdout",
     "output_type": "stream",
     "text": [
      "POLYGON ((0 1600000, 0 800000, 800000 800000, 800000 1600000, 0 1600000))\n"
     ]
    }
   ],
   "source": [
    "tile = box(tile_size,2*tile_size,0,tile_size)\n",
    "print(tile)"
   ]
  },
  {
   "cell_type": "code",
   "execution_count": 3,
   "id": "active-handy",
   "metadata": {},
   "outputs": [],
   "source": [
    "container = []\n",
    "range_minx = math.floor(source.bounds[0]/tile_size)\n",
    "range_maxx = math.ceil(source.bounds[2]/tile_size)\n",
    "range_miny = math.floor(source.bounds[1]/tile_size)\n",
    "range_maxy = math.ceil(source.bounds[3]/tile_size)\n",
    "for i in range(range_minx,range_maxx):\n",
    "    x = i * tile_size\n",
    "    for j in range(range_miny,range_maxy):\n",
    "        y = j * tile_size\n",
    "        my_tile = box(x,y,x+tile_size,y+tile_size)\n",
    "        if my_tile.intersects(canada):\n",
    "            container.append(my_tile)\n",
    "#print(container)\n",
    "# add visualization "
   ]
  },
  {
   "cell_type": "code",
   "execution_count": 4,
   "id": "stopped-conclusion",
   "metadata": {},
   "outputs": [],
   "source": [
    "# write a new geojson \n",
    "schema = {\n",
    "    'geometry': 'Polygon',\n",
    "    'properties': {'id': 'int'},\n",
    "}"
   ]
  },
  {
   "cell_type": "code",
   "execution_count": 5,
   "id": "solar-hanging",
   "metadata": {},
   "outputs": [],
   "source": [
    "with fiona.open ('tilecanada.geojson','w','GeoJSON',schema, crs=fiona.crs.from_epsg(3979)) as output:\n",
    "    for i in container:\n",
    "        index = 0\n",
    "        output.write({\n",
    "            'geometry': mapping(i),\n",
    "            'properties': {'id': index+1}})\n",
    "output.close()"
   ]
  },
  {
   "cell_type": "code",
   "execution_count": 6,
   "id": "ongoing-stick",
   "metadata": {},
   "outputs": [
    {
     "data": {
      "image/png": "[encoded data removed]",
      "text/plain": [
       "<Figure size 432x288 with 1 Axes>"
      ]
     },
     "metadata": {
      "needs_background": "light"
     },
     "output_type": "display_data"
    }
   ],
   "source": [
    "tile_geom = [shape(i) for i in container]\n",
    "#print(tile_geom)\n",
    "tile_gdf = gpd.GeoDataFrame({'geometry':tile_geom})\n",
    "#print(tile_gdf)\n",
    "\n",
    "ax = tile_gdf.plot(cmap='Set3')\n",
    "#coverage_gdf.plot(ax=ax, facecolor='none', edgecolor='k');\n",
    "tile_gdf.plot(ax=ax, facecolor='none', edgecolor='k');\n",
    "\n"
   ]
  },
  {
   "cell_type": "code",
   "execution_count": 54,
   "id": "qualified-webmaster",
   "metadata": {},
   "outputs": [],
   "source": []
  },
  {
   "cell_type": "code",
   "execution_count": null,
   "id": "chubby-commission",
   "metadata": {},
   "outputs": [],
   "source": [
    "\n",
    "        \n"
   ]
  },
  {
   "cell_type": "code",
   "execution_count": null,
   "id": "equal-maple",
   "metadata": {},
   "outputs": [],
   "source": []
  }
 ],
 "metadata": {
  "kernelspec": {
   "display_name": "Python 3",
   "language": "python",
   "name": "python3"
  },
  "language_info": {
   "codemirror_mode": {
    "name": "ipython",
    "version": 3
   },
   "file_extension": ".py",
   "mimetype": "text/x-python",
   "name": "python",
   "nbconvert_exporter": "python",
   "pygments_lexer": "ipython3",
   "version": "3.9.1"
  }
 },
 "nbformat": 4,
 "nbformat_minor": 5
}
